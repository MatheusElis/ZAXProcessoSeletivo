{
  "nbformat": 4,
  "nbformat_minor": 0,
  "metadata": {
    "colab": {
      "name": "ZAXProcesso.ipynb",
      "provenance": [],
      "collapsed_sections": []
    },
    "kernelspec": {
      "name": "python3",
      "display_name": "Python 3"
    },
    "language_info": {
      "name": "python"
    }
  },
  "cells": [
    {
      "cell_type": "markdown",
      "source": [
        "# Descrição"
      ],
      "metadata": {
        "id": "hzKCmH-XVnJ5"
      }
    },
    {
      "cell_type": "markdown",
      "source": [
        "## Problema\n",
        "\n",
        "Existem 5 motoboys, cada motoboy ganha uma comissão diferente por pedido coletado, e alguns motoboys possuem exclusividade com algumas lojas na qual fazem coletas. \n",
        "\n",
        "Os motoboys não podem reclamar que ficaram sem pedidos.\n",
        "\n",
        "Os motoboys que possuem exclusividade com as lojas, possuem prioridade.\n",
        "\n",
        "Os motoboys podem ter exclusividade com as lojas, mas as lojas não possuem\n",
        "exclusividade com os motoboys.\n",
        "\n",
        "Hoje existem 10 pedidos para serem retirados em 3 lojas.\n",
        "\n",
        "**Quando eu executar o script passando apenas o motoboy ou não passando nenhum\n",
        "motoboy, preciso ver:**<br>\n",
        "Quem é o motoboy e quantos pedidos terá? <br>\n",
        "De qual loja é? <br>\n",
        "Quanto vai ganhar? <br>\n",
        "\n",
        "## Dados do teste\n",
        "\n",
        "**Motoboys** <br>\n",
        "Moto 1 - cobra R\\$2 reais por entrega e atende todas as lojas <br>\n",
        "Moto 2 - cobra R\\$2 reais por entrega e atende todas as lojas <br>\n",
        "Moto 3 - cobra R\\$2 reais por entrega e atende todas as lojas <br>\n",
        "Moto 4 - cobra R\\$2 reais por entrega e atende apenas a loja 1 <br>\n",
        "Moto 5 - cobra R\\$3 reais por entrega e atende todas as lojas <br>\n",
        "\n",
        "**Lojas** <br>\n",
        "Loja 1 - 3 pedidos (PEDIDO 1 R\\$50, PEDIDO 2 R\\$50, PEDIDO 3 R\\$50) e paga 5% do valor pedido por entrega fora o valor fixo. <br>\n",
        "Loja 2 - 4 pedidos (PEDIDO 1 R\\$50, PEDIDO 2 R\\$50, PEDIDO 3 R\\$50, PEDIDO 4 R\\$50) e\n",
        "paga 5% do valor pedido por entrega fora o valor fixo. <br>\n",
        "Loja 3 - 3 pedidos (PEDIDO 1 R\\$50, PEDIDO 2 R\\$50, PEDIDO 3 R\\$100) e paga 15% do\n",
        "valor pedido por entrega fora o valor fixo. <br>\n",
        "\n",
        "O Moto 1 atende todas as lojas <br>\n",
        "O Moto 2 atende todas as lojas <br>\n",
        "O Moto 3 atende todas as lojas <br>\n",
        "O Moto 4 atende apenas a loja 1 <br>\n",
        "O Moto 5 atende todas as lojas <br>"
      ],
      "metadata": {
        "id": "kvbYYpWLVqan"
      }
    },
    {
      "cell_type": "markdown",
      "source": [
        "# Dados de entrada\n",
        "\n",
        "Foi definido neste caso utilizarmos os dados de entrada no formato Dicionario pois este tipo de estrutura funciona de modo bem analogo ao JSON."
      ],
      "metadata": {
        "id": "siUDhPubES_y"
      }
    },
    {
      "cell_type": "code",
      "execution_count": 1,
      "metadata": {
        "id": "D-LQgdvgAIH2"
      },
      "outputs": [],
      "source": [
        "data = {\n",
        "    \"motoboys\": [\n",
        "        {\n",
        "            \"id\" : 1,\n",
        "            \"name\" : \"Moto 1\",\n",
        "            \"fixedPrice\" : 2,\n",
        "            \"exclusivity\" : None\n",
        "        },\n",
        "        {\n",
        "            \"id\" : 2,\n",
        "            \"name\" : \"Moto 2\",\n",
        "            \"fixedPrice\" : 2,\n",
        "            \"exclusivity\" : None\n",
        "        },\n",
        "        {\n",
        "            \"id\" : 3,\n",
        "            \"name\" : \"Moto 3\",\n",
        "            \"fixedPrice\" : 2,\n",
        "            \"exclusivity\" : None\n",
        "        },\n",
        "        {\n",
        "            \"id\" : 4,\n",
        "            \"name\" : \"Moto 4\",\n",
        "            \"fixedPrice\" : 2,\n",
        "            \"exclusivity\" : 1\n",
        "        },\n",
        "        {\n",
        "            \"id\" : 5,\n",
        "            \"name\" : \"Moto 5\",\n",
        "            \"fixedPrice\" : 3,\n",
        "            \"exclusivity\" : None\n",
        "        }\n",
        "    ],\n",
        "    \"stores\" : [\n",
        "        {\n",
        "            \"id\" : 1,\n",
        "            \"name\" : \"Loja 1\",\n",
        "            \"comission\" : 0.05\n",
        "        },\n",
        "        {\n",
        "            \"id\" : 2,\n",
        "            \"name\" : \"Loja 2\",\n",
        "            \"comission\" : 0.05\n",
        "        },\n",
        "        {\n",
        "            \"id\" : 3,\n",
        "            \"name\" : \"Loja 3\",\n",
        "            \"comission\" : 0.15\n",
        "        }\n",
        "    ],\n",
        "    \"orders\" : [\n",
        "        {\n",
        "            \"id\" : 1,\n",
        "            \"value\" : 50,\n",
        "            \"store\" : 1\n",
        "        },\n",
        "        {\n",
        "            \"id\" : 2,\n",
        "            \"value\" : 50,\n",
        "            \"store\" : 1\n",
        "        },\n",
        "        {\n",
        "            \"id\" : 3,\n",
        "            \"value\" : 50,\n",
        "            \"store\" : 1\n",
        "        },\n",
        "        {\n",
        "            \"id\" : 4,\n",
        "            \"value\" : 50,\n",
        "            \"store\" : 2\n",
        "        },\n",
        "        {\n",
        "            \"id\" : 5,\n",
        "            \"value\" : 50,\n",
        "            \"store\" : 2\n",
        "        },\n",
        "        {\n",
        "            \"id\" : 6,\n",
        "            \"value\" : 50,\n",
        "            \"store\" : 2\n",
        "        },\n",
        "        {\n",
        "            \"id\" : 7,\n",
        "            \"value\" : 50,\n",
        "            \"store\" : 2\n",
        "        },\n",
        "        {\n",
        "            \"id\" : 8,\n",
        "            \"value\" : 50,\n",
        "            \"store\" : 3\n",
        "        },\n",
        "        {\n",
        "            \"id\" : 9,\n",
        "            \"value\" : 50,\n",
        "            \"store\" : 3\n",
        "        },\n",
        "        {\n",
        "            \"id\" : 10,\n",
        "            \"value\" : 100,\n",
        "            \"store\" : 3\n",
        "        }\n",
        "    ]\n",
        "}"
      ]
    },
    {
      "cell_type": "markdown",
      "source": [
        "# Classes\n",
        "\n",
        "Foram definidas a seguir as classes `Order`, `Store` e `Motoboy`. O intuito dessas classes é de armazenar respectivamente os dados refente aos pedidos, lojas e motoboys.\n",
        "\n",
        "A classe `Order` armazena as seguintes variaveis em relação aos pedidos:\n",
        "- `id` - Armazena o identificador do pedido,\n",
        "- `value` - Armazena o valor do pedido,\n",
        "- `store` - Armazena o a Loja na qual o pedido foi feito.\n",
        "\n",
        "A classe `Store` armazena as seguintes variaveis em relação as lojas:\n",
        "- `id` - Armazena o identificador da loja,\n",
        "- `name` - Armazena o nome da loja,\n",
        "- `comission` - Armazena a comissão em cima do valor do pedido que a loja paga ao motoboy.\n",
        "\n",
        "A classe `Motoboy` armazena as seguintes variaveis e metodos em relação aos motoboys:\n",
        "- `id` - Armazena o identificador do motoboy,\n",
        "- `name` - Armazena o nome do motoboy,\n",
        "- `fixedPrice` - Armazena o valor da taxa fixa cobrada pelo motoboy,\n",
        "- `exclusivity` - Armazena se o motoboy tem alguma exclusividade,\n",
        "- `orderExecuted` - Armazena os pedidos que o motoboy executou,\n",
        "- `setOrder()` - Adiciona um determinado pedido ao motoboy,\n",
        "- `setEarnings()` - Calcula o valor ganho pelo motoboy com base nos pedidos que ele executou,\n",
        "- `getOrdersList()` - Retorna uma `string` contendo as informações dos pedidos executados pelo motoboy,\n",
        "- `printResult()` - Mostra em tela os dados finais do motoboy."
      ],
      "metadata": {
        "id": "RrUrrj9GEWSo"
      }
    },
    {
      "cell_type": "code",
      "source": [
        "class Order:\n",
        "    def __init__(self, id, value, store):\n",
        "        self.id = id\n",
        "        self.value = value\n",
        "        self.store = store\n",
        "\n",
        "\n",
        "class Store:\n",
        "    def __init__(self, id, name, comission):\n",
        "        self.id = id\n",
        "        self.name = name\n",
        "        self.comission = comission\n",
        "        \n",
        "    \n",
        "\n",
        "\n",
        "class Motoboy:\n",
        "    def __init__(self, id, name, fixedPrice, exclusivity):\n",
        "        self.id = id\n",
        "        self.name = name\n",
        "        self.fixedPrice = fixedPrice\n",
        "        self.exclusivity = exclusivity\n",
        "        self.orderExecuted = []\n",
        "    \n",
        "    def setOrder(self, order):\n",
        "        self.orderExecuted.append(order)\n",
        "    \n",
        "    def setEarnings(self):\n",
        "        earnings = 0\n",
        "        for order in self.orderExecuted:\n",
        "            earnings += self.fixedPrice + order.value * order.store.comission\n",
        "        return earnings\n",
        "            \n",
        "    def getOrdersList(self):\n",
        "        executedList = \"\"\"\"\"\"\n",
        "        for order in self.orderExecuted:\n",
        "            executedList += f'\\nPedido N {order.id} - Valor: R${order.value} - {order.store.name}'\n",
        "        return executedList\n",
        "\n",
        "    def printResult(self):\n",
        "        print(\n",
        "        f\"\"\"\n",
        "        --------------------------------------------\n",
        "        {self.name} - {len(self.orderExecuted)} Pedidos\n",
        "        {self.getOrdersList()}\n",
        "        Ganho Total: R${self.setEarnings()}\n",
        "        \"\"\")"
      ],
      "metadata": {
        "id": "Zylg99KCEZiN"
      },
      "execution_count": 2,
      "outputs": []
    },
    {
      "cell_type": "markdown",
      "source": [
        "A função `handler()` recebe um dicionario contendo os dados iniciais do problema, gera 3 listas contendo cada uma; os motoboys e suas informações, as lojas e suas informações e por ultimo os pedidos e suas informações.\n",
        "\n",
        "Logo após é iniciado uma lista vazia com nome `motoboyWaitList` que irá armazenar os motoboys disponiveis naquele instante. Com isso iniciaremos um `loop` passando pedido a pedido com ordem pelos `id` de cada pedido. No momento inicial e sempre que a lista `motoboyWaitList` fica novamente vazia, ela recebe a lista total de motoboys e o ciclo de motoboy se inicia novamente.\n",
        "\n",
        "Com isso o definimos o motoboy que ira executar esse pedido, caso exista em `motoboyWaitList` um motoboy com exclusividade para essa lista, ele é selecionado para executar esse pedido, caso contrario será pego o primeiro motoboy não exclusivo da lista de espera.\n",
        "\n",
        "Após o motoboy executar o pedido ele é removido da lista `motoboyWaitList` e só entrará nela novamente após a lista ser renovada."
      ],
      "metadata": {
        "id": "VEbQUEDdmLsl"
      }
    },
    {
      "cell_type": "code",
      "source": [
        "def handler(data):\n",
        "    motoboyList = [Motoboy(motoboy.get('id'), motoboy.get('name'), motoboy.get('fixedPrice'), motoboy.get('exclusivity')) for motoboy in data['motoboys']]\n",
        "    storeList = [Store(store.get('id'), store.get('name'), store.get('comission')) for store in data['stores']]\n",
        "    orderList = [Order(order.get('id'), order.get('value'), storeList[order.get('store')-1]) for order in data['orders']]\n",
        "\n",
        "    motoboyWaitList = None\n",
        "\n",
        "    for order in orderList:\n",
        "        \n",
        "        if not motoboyWaitList:\n",
        "            motoboyWaitList = motoboyList.copy()\n",
        "        exclusiveMotoboys = [motoboy for motoboy in motoboyWaitList if motoboy.exclusivity == order.store.id]\n",
        "        nonExclusiveMotoboys = [motoboy for motoboy in motoboyWaitList if not motoboy.exclusivity]\n",
        "        \n",
        "        if not nonExclusiveMotoboys and not exclusiveMotoboys:\n",
        "            motoboyWaitList = motoboyList.copy()\n",
        "            exclusiveMotoboys = [motoboy for motoboy in motoboyWaitList if motoboy.exclusivity == order.store.id]\n",
        "            nonExclusiveMotoboys = [motoboy for motoboy in motoboyWaitList if not motoboy.exclusivity]\n",
        "        \n",
        "        currentMotoboy = exclusiveMotoboys[0] if exclusiveMotoboys else nonExclusiveMotoboys[0] \n",
        "        currentMotoboy.setOrder(order)\n",
        "        motoboyWaitList.remove(currentMotoboy)\n",
        "\n",
        "    return(motoboyList)"
      ],
      "metadata": {
        "id": "zUWmcCBXMH9o"
      },
      "execution_count": 3,
      "outputs": []
    },
    {
      "cell_type": "markdown",
      "source": [
        "Por fim temos a função `main()` que mostrará em tela o resultado final do problema."
      ],
      "metadata": {
        "id": "OI2ivFcOoris"
      }
    },
    {
      "cell_type": "code",
      "source": [
        "def main(MotoboyID = None):\n",
        "    motoboyList = handler(data)\n",
        "    if not MotoboyID:\n",
        "        for motoboy in motoboyList:\n",
        "            motoboy.printResult()\n",
        "        return\n",
        "    else:\n",
        "        for motoboy in motoboyList:\n",
        "            if motoboy.id == MotoboyID:\n",
        "                motoboy.printResult()\n",
        "                return\n",
        "        print(\"Não existe motoboy com o ID apresentado\")\n",
        "    return"
      ],
      "metadata": {
        "id": "4kH4NTHaccLm"
      },
      "execution_count": 8,
      "outputs": []
    },
    {
      "cell_type": "markdown",
      "source": [
        "Caso a função `main()` seja chamada sem parametros ela irá mostrar a lista completa dos motoboys com suas informações."
      ],
      "metadata": {
        "id": "Tr0IC7Yvo2_-"
      }
    },
    {
      "cell_type": "code",
      "source": [
        "main()"
      ],
      "metadata": {
        "id": "4b6kMdZ4nAK8",
        "colab": {
          "base_uri": "https://localhost:8080/"
        },
        "outputId": "88a5310b-6dc4-44ff-9bfe-9f8cc0d8be19"
      },
      "execution_count": 9,
      "outputs": [
        {
          "output_type": "stream",
          "name": "stdout",
          "text": [
            "\n",
            "        --------------------------------------------\n",
            "        Moto 1 - 3 Pedidos\n",
            "        \n",
            "Pedido N 2 - Valor: R$50 - Loja 1\n",
            "Pedido N 6 - Valor: R$50 - Loja 2\n",
            "Pedido N 10 - Valor: R$100 - Loja 3\n",
            "        Ganho Total: R$26.0\n",
            "        \n",
            "\n",
            "        --------------------------------------------\n",
            "        Moto 2 - 2 Pedidos\n",
            "        \n",
            "Pedido N 3 - Valor: R$50 - Loja 1\n",
            "Pedido N 7 - Valor: R$50 - Loja 2\n",
            "        Ganho Total: R$9.0\n",
            "        \n",
            "\n",
            "        --------------------------------------------\n",
            "        Moto 3 - 2 Pedidos\n",
            "        \n",
            "Pedido N 4 - Valor: R$50 - Loja 2\n",
            "Pedido N 8 - Valor: R$50 - Loja 3\n",
            "        Ganho Total: R$14.0\n",
            "        \n",
            "\n",
            "        --------------------------------------------\n",
            "        Moto 4 - 1 Pedidos\n",
            "        \n",
            "Pedido N 1 - Valor: R$50 - Loja 1\n",
            "        Ganho Total: R$4.5\n",
            "        \n",
            "\n",
            "        --------------------------------------------\n",
            "        Moto 5 - 2 Pedidos\n",
            "        \n",
            "Pedido N 5 - Valor: R$50 - Loja 2\n",
            "Pedido N 9 - Valor: R$50 - Loja 3\n",
            "        Ganho Total: R$16.0\n",
            "        \n"
          ]
        }
      ]
    },
    {
      "cell_type": "markdown",
      "source": [
        "Caso a função `main()` seja chamada com um parametro `MotoboyID` ela retornará as informações daquele motoboy especifico."
      ],
      "metadata": {
        "id": "pZuhQCkbpHO-"
      }
    },
    {
      "cell_type": "code",
      "source": [
        "main(3)"
      ],
      "metadata": {
        "colab": {
          "base_uri": "https://localhost:8080/"
        },
        "id": "BTGDIuCaUtUo",
        "outputId": "c1671bc9-e57c-4f38-ad8f-f5ad382352e6"
      },
      "execution_count": 10,
      "outputs": [
        {
          "output_type": "stream",
          "name": "stdout",
          "text": [
            "\n",
            "        --------------------------------------------\n",
            "        Moto 3 - 2 Pedidos\n",
            "        \n",
            "Pedido N 4 - Valor: R$50 - Loja 2\n",
            "Pedido N 8 - Valor: R$50 - Loja 3\n",
            "        Ganho Total: R$14.0\n",
            "        \n"
          ]
        }
      ]
    },
    {
      "cell_type": "markdown",
      "source": [
        "Caso a função `main()` seja chamada com um `MotoboyID` invalido ela retornará a seguinte frase:\n",
        "\n",
        "> Não existe motoboy com o ID apresentado"
      ],
      "metadata": {
        "id": "EFj5Az2Vpbfs"
      }
    },
    {
      "cell_type": "code",
      "source": [
        "main(6)"
      ],
      "metadata": {
        "colab": {
          "base_uri": "https://localhost:8080/"
        },
        "id": "DM90ckB4pWpe",
        "outputId": "fd31c431-5867-4e2c-9c74-1c791f2095bc"
      },
      "execution_count": 11,
      "outputs": [
        {
          "output_type": "stream",
          "name": "stdout",
          "text": [
            "Não existe motoboy com o ID apresentado\n"
          ]
        }
      ]
    }
  ]
}